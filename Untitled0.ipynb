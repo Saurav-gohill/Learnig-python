{
  "nbformat": 4,
  "nbformat_minor": 0,
  "metadata": {
    "colab": {
      "provenance": [],
      "authorship_tag": "ABX9TyNxutE4PEp1vZHZPsF+kOuB",
      "include_colab_link": true
    },
    "kernelspec": {
      "name": "python3",
      "display_name": "Python 3"
    },
    "language_info": {
      "name": "python"
    }
  },
  "cells": [
    {
      "cell_type": "markdown",
      "metadata": {
        "id": "view-in-github",
        "colab_type": "text"
      },
      "source": [
        "<a href=\"https://colab.research.google.com/github/Saurav-gohill/Learnig-python/blob/main/Untitled0.ipynb\" target=\"_parent\"><img src=\"https://colab.research.google.com/assets/colab-badge.svg\" alt=\"Open In Colab\"/></a>"
      ]
    },
    {
      "cell_type": "code",
      "execution_count": null,
      "metadata": {
        "id": "X6SghVthvw29"
      },
      "outputs": [],
      "source": [
        "# A simple Calculator\n",
        "a= int(input (\"first number \"))\n",
        "c = input(\"you operation what you want : +, -, *, /, //, %, **  \")\n",
        "b = int(input (\"second number \"))\n",
        "\n",
        "if c == '+':\n",
        "  print(a+b)\n",
        "elif c == '-':\n",
        "  print(a-b)\n",
        "elif c == '*':\n",
        "  print(a*b)\n",
        "elif c == '/':\n",
        "  print(a/b)\n",
        "elif c == '//':\n",
        "  print(a//b)\n",
        "elif c == '%':\n",
        "  print(a%b)\n",
        "elif c == '**':\n",
        "  print(a**b)\n",
        "else:\n",
        "  print(\"You enter wrong input\")"
      ]
    },
    {
      "cell_type": "code",
      "source": [
        "# Simple user credential\n",
        "user = 'admin'\n",
        "password = 'admin@123'\n",
        "\n",
        "user1 = input(\"Enter your user name  : \")\n",
        "passw = input(\"Enter your password to login  : \")\n",
        "\n",
        "if(user1 == user and passw == password):\n",
        "  print(\"login successful \")\n",
        "  print(\"welcome \", user1)\n",
        "elif(user1 == user):\n",
        "  print(\"user password is incorrect \")\n",
        "elif(passw == password):\n",
        "  print(\"Invalid user name\")\n",
        "else:\n",
        "  print(\"Invalid user name and passwod\")"
      ],
      "metadata": {
        "id": "Sb2OKlLV5Wjw"
      },
      "execution_count": null,
      "outputs": []
    },
    {
      "cell_type": "code",
      "source": [
        "# Print Grades\n",
        "name = input(\"Enter your name : \")\n",
        "marks = int(input(\"Enter your marks : \"))\n",
        "if marks >= 90:\n",
        "  print(name,\" your Grade is A+ \")\n",
        "elif marks >= 80:\n",
        "  print(name,\" your Grade is A \")\n",
        "elif marks >= 70:\n",
        "  print(name,\" your Grade is B \")\n",
        "elif marks >= 50:\n",
        "  print(name,\" your Grade is C \")\n",
        "else:\n",
        "  print(name,\" your Grade is D \")\n",
        "\n"
      ],
      "metadata": {
        "id": "u6T7r2LB70Y0"
      },
      "execution_count": null,
      "outputs": []
    },
    {
      "cell_type": "code",
      "source": [
        "for i in range(10):\n",
        "  print(i)"
      ],
      "metadata": {
        "colab": {
          "base_uri": "https://localhost:8080/"
        },
        "id": "7kjEQsXpwQEA",
        "outputId": "af9c16dd-0c76-49e2-9b10-a987256883a1"
      },
      "execution_count": null,
      "outputs": [
        {
          "output_type": "stream",
          "name": "stdout",
          "text": [
            "0\n",
            "1\n",
            "2\n",
            "3\n",
            "4\n",
            "5\n",
            "6\n",
            "7\n",
            "8\n",
            "9\n"
          ]
        }
      ]
    },
    {
      "cell_type": "code",
      "source": [
        "def pr():\n",
        "  print(\"hi\")\n",
        "\n",
        "pr()"
      ],
      "metadata": {
        "colab": {
          "base_uri": "https://localhost:8080/"
        },
        "id": "2LtcKrFMw4w9",
        "outputId": "fbe4c802-89cd-4011-dbb4-3711aabd6e55"
      },
      "execution_count": null,
      "outputs": [
        {
          "output_type": "stream",
          "name": "stdout",
          "text": [
            "hi\n"
          ]
        }
      ]
    },
    {
      "cell_type": "code",
      "source": [
        "a= 10 # global variable\n",
        "def fun():\n",
        "  b=6 # local variable\n",
        "  print(a)\n",
        "  print(b)\n",
        "\n",
        "print(a)\n",
        "fun()"
      ],
      "metadata": {
        "colab": {
          "base_uri": "https://localhost:8080/"
        },
        "id": "odY3GsEh1HeQ",
        "outputId": "aeff6d8d-837b-402b-b45a-f32a8e6d9011"
      },
      "execution_count": null,
      "outputs": [
        {
          "output_type": "stream",
          "name": "stdout",
          "text": [
            "10\n",
            "10\n",
            "6\n"
          ]
        }
      ]
    },
    {
      "cell_type": "code",
      "source": [
        "''' pattern\n",
        "  find prime number between 1 to 100\n",
        "  wap to print max of three number\n",
        "'''\n",
        "for i in range(5,0,-1):\n",
        "  for j in range(i):\n",
        "    print(\"*\",end=\"\")\n",
        "  print()"
      ],
      "metadata": {
        "colab": {
          "base_uri": "https://localhost:8080/"
        },
        "id": "00fCm6Oq4Njh",
        "outputId": "831f7f4d-37eb-4bfe-99aa-ff6499cd29bd"
      },
      "execution_count": null,
      "outputs": [
        {
          "output_type": "stream",
          "name": "stdout",
          "text": [
            "*****\n",
            "****\n",
            "***\n",
            "**\n",
            "*\n"
          ]
        }
      ]
    },
    {
      "cell_type": "code",
      "source": [
        "a=10\n",
        "b=12\n",
        "c=8\n",
        "\n",
        "\n",
        "if a>b and a>c:\n",
        "  print(a)\n",
        "elif b>c and a>c:\n",
        "  print(b)\n",
        "else:\n",
        "  print(c)"
      ],
      "metadata": {
        "colab": {
          "base_uri": "https://localhost:8080/"
        },
        "id": "w42pk-ao6Mzr",
        "outputId": "c66e468e-8cb8-43b4-a5e4-295cd7589fcc"
      },
      "execution_count": null,
      "outputs": [
        {
          "output_type": "stream",
          "name": "stdout",
          "text": [
            "12\n"
          ]
        }
      ]
    },
    {
      "cell_type": "code",
      "source": [
        "max(a,b,c)"
      ],
      "metadata": {
        "colab": {
          "base_uri": "https://localhost:8080/"
        },
        "id": "EKm9IVsp7t90",
        "outputId": "950f9a2c-ef64-4291-f23a-2881f5191500"
      },
      "execution_count": null,
      "outputs": [
        {
          "output_type": "execute_result",
          "data": {
            "text/plain": [
              "12"
            ]
          },
          "metadata": {},
          "execution_count": 11
        }
      ]
    },
    {
      "cell_type": "code",
      "source": [
        "for i in range(2, 101):\n",
        "  bo =True\n",
        "  for j in range(2, int(i/2)):\n",
        "    if i % j == 0:\n",
        "      bo = False\n",
        "      break\n",
        "  if bo:\n",
        "    print(i,end=\" \")\n"
      ],
      "metadata": {
        "colab": {
          "base_uri": "https://localhost:8080/"
        },
        "id": "to8cm69b8WFk",
        "outputId": "674c8050-6b7d-4c4d-d521-b9dd12d3e022"
      },
      "execution_count": null,
      "outputs": [
        {
          "output_type": "stream",
          "name": "stdout",
          "text": [
            "2 3 4 5 7 11 13 17 19 23 29 31 37 41 43 47 53 59 61 67 71 73 79 83 89 97 "
          ]
        }
      ]
    },
    {
      "cell_type": "code",
      "source": [
        "a = 2000\n",
        "\n",
        "if (a%4 == 0 and a%100 !=0) or a%400 == 0:\n",
        "  print(\"Leaf year\")\n",
        "else :\n",
        "  print(\"Not a Leap year\")"
      ],
      "metadata": {
        "colab": {
          "base_uri": "https://localhost:8080/"
        },
        "id": "OiCHdXC09_Ha",
        "outputId": "adf6e935-bbf7-49b0-957f-15abd3a85dcc"
      },
      "execution_count": null,
      "outputs": [
        {
          "output_type": "stream",
          "name": "stdout",
          "text": [
            "Leaf year\n"
          ]
        }
      ]
    },
    {
      "cell_type": "code",
      "source": [
        "# unions\n",
        "set1 = {1,2,4,6,7}\n",
        "set2 = {3,5,6,7}\n",
        "\n",
        "res = set1 | set2\n",
        "res2 = set1.union(set2)\n",
        "print(res2)\n",
        "print(res)"
      ],
      "metadata": {
        "colab": {
          "base_uri": "https://localhost:8080/"
        },
        "id": "bo0OEQmJBn0T",
        "outputId": "95485cda-72bc-4d7a-cc49-b8c8fdb16873"
      },
      "execution_count": null,
      "outputs": [
        {
          "output_type": "stream",
          "name": "stdout",
          "text": [
            "{1, 2, 3, 4, 5, 6, 7}\n",
            "{1, 2, 3, 4, 5, 6, 7}\n"
          ]
        }
      ]
    },
    {
      "cell_type": "code",
      "source": [
        "# intersection\n",
        "res = set1 & set2\n",
        "res2 = set1.intersection(set2)\n",
        "print(res2)\n",
        "print(res)"
      ],
      "metadata": {
        "colab": {
          "base_uri": "https://localhost:8080/"
        },
        "id": "619adUjFCGNM",
        "outputId": "5b6338d8-4b13-4c47-cc17-0e6229b128c7"
      },
      "execution_count": null,
      "outputs": [
        {
          "output_type": "stream",
          "name": "stdout",
          "text": [
            "{6, 7}\n",
            "{6, 7}\n"
          ]
        }
      ]
    },
    {
      "cell_type": "code",
      "source": [
        "# difference\n",
        "set1 = {1,2,4,6,7}\n",
        "set2 = {3,5,6,7}\n",
        "res = set1 - set2\n",
        "res2 = set1.difference(set2)\n",
        "print(res)\n",
        "print(res2)"
      ],
      "metadata": {
        "colab": {
          "base_uri": "https://localhost:8080/"
        },
        "id": "UX3jQ9yJCX2F",
        "outputId": "d815f8dc-086f-4b89-f45e-4d27a02e8728"
      },
      "execution_count": null,
      "outputs": [
        {
          "output_type": "stream",
          "name": "stdout",
          "text": [
            "{1, 2, 4}\n",
            "{1, 2, 4}\n"
          ]
        }
      ]
    },
    {
      "cell_type": "code",
      "source": [
        "# semmetric\n",
        "res = set1 ^ set2\n",
        "res2 = set1.symmetric_difference(set2)\n",
        "print(res2)\n",
        "print(res)"
      ],
      "metadata": {
        "colab": {
          "base_uri": "https://localhost:8080/"
        },
        "id": "7lT0hm_lDkEY",
        "outputId": "ba387986-d16d-42fa-a8d2-7197edf34736"
      },
      "execution_count": null,
      "outputs": [
        {
          "output_type": "stream",
          "name": "stdout",
          "text": [
            "{1, 2, 3, 4, 5}\n",
            "{1, 2, 3, 4, 5}\n"
          ]
        }
      ]
    },
    {
      "cell_type": "code",
      "source": [
        "# todo list using list\n",
        "list1 = []\n"
      ],
      "metadata": {
        "id": "fQ_vRw6NF7A6"
      },
      "execution_count": null,
      "outputs": []
    },
    {
      "cell_type": "code",
      "source": [
        "# Counting Unique words in text\n",
        "\n",
        "text=\"In this tutorial we are discussing about sets this we are\"\n",
        "words = text.split()\n",
        "print(words)\n",
        "unique = set(words)\n",
        "print(unique)\n",
        "print(len(unique))"
      ],
      "metadata": {
        "colab": {
          "base_uri": "https://localhost:8080/"
        },
        "id": "smV4ezmEGJ5E",
        "outputId": "6d3f074b-6e6e-4195-bf01-129a750a81bb"
      },
      "execution_count": null,
      "outputs": [
        {
          "output_type": "stream",
          "name": "stdout",
          "text": [
            "['In', 'this', 'tutorial', 'we', 'are', 'discussing', 'about', 'sets', 'this', 'we', 'are']\n",
            "{'discussing', 'tutorial', 'are', 'about', 'sets', 'In', 'this', 'we'}\n",
            "8\n"
          ]
        }
      ]
    },
    {
      "cell_type": "code",
      "source": [
        "signup = [101,102,103,104,105,101,102]\n",
        "attend = [102,103,104,107]\n",
        "list1 = signup+attend\n",
        "print(list1)\n",
        "\n",
        "signup_set = set(signup)\n",
        "\n",
        "result = {}\n",
        "\n",
        "for i in list1:\n",
        "  if i in signup:\n",
        "    if i in attend:\n",
        "      result[i] = \"attended\"\n",
        "    else:\n",
        "      result[i] = \"Absent\"\n",
        "  else:\n",
        "    result[i] = \"Attend not sign up\"\n",
        "\n",
        "print(result)\n",
        "\n"
      ],
      "metadata": {
        "colab": {
          "base_uri": "https://localhost:8080/"
        },
        "id": "qTEaInIqDaFL",
        "outputId": "47133f46-c37c-4f96-a186-0a9b1d069588"
      },
      "execution_count": null,
      "outputs": [
        {
          "output_type": "stream",
          "name": "stdout",
          "text": [
            "[101, 102, 103, 104, 105, 101, 102, 102, 103, 104, 107]\n",
            "{101: 'Absent', 102: 'attended', 103: 'attended', 104: 'attended', 105: 'Absent', 107: 'Attend not sign up'}\n"
          ]
        }
      ]
    }
  ]
}